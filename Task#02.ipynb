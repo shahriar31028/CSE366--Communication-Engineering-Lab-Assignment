{
  "nbformat": 4,
  "nbformat_minor": 0,
  "metadata": {
    "colab": {
      "name": "Task #02.ipynb",
      "provenance": [],
      "authorship_tag": "ABX9TyMGCmQHP8oZb0bPygjN4+Rh",
      "include_colab_link": true
    },
    "kernelspec": {
      "name": "python3",
      "display_name": "Python 3"
    },
    "language_info": {
      "name": "python"
    }
  },
  "cells": [
    {
      "cell_type": "markdown",
      "metadata": {
        "id": "view-in-github",
        "colab_type": "text"
      },
      "source": [
        "<a href=\"https://colab.research.google.com/github/shahriar31028/CSE366---Communication-Engineering-Lab-Assignment/blob/main/Task%2302.ipynb\" target=\"_parent\"><img src=\"https://colab.research.google.com/assets/colab-badge.svg\" alt=\"Open In Colab\"/></a>"
      ]
    },
    {
      "cell_type": "code",
      "metadata": {
        "id": "7y8Ut1uDaMbl"
      },
      "source": [
        "import numpy as np\n",
        "import matplotlib.pyplot as plt\n",
        "import math"
      ],
      "execution_count": 46,
      "outputs": []
    },
    {
      "cell_type": "markdown",
      "metadata": {
        "id": "gBEE0U6wmocc"
      },
      "source": [
        "**Line Coding Encoding - Unipolar - Non Return to Zero(NRZ)**"
      ]
    },
    {
      "cell_type": "code",
      "metadata": {
        "colab": {
          "base_uri": "https://localhost:8080/",
          "height": 265
        },
        "id": "Hj_R4as3mvLc",
        "outputId": "e6a55874-71da-432b-a709-fc01814b7f8f"
      },
      "source": [
        "time_period = 10e-6 \n",
        "data_elements = np.array([1, 0, 0, 1, 1, 1, 0, 1, 0, 0, 0])    \n",
        "\n",
        "\n",
        "bit_rate = 1/time_period  \n",
        "Fs = 4*bit_rate   \n",
        "\n",
        "bit_length = len(data_elements)   \n",
        "\n",
        "T = np.linspace(0,time_period,100)\n",
        "\n",
        "line_coding = np.array([])\n",
        "for i in range(bit_length):\n",
        "  temp = data_elements[i]* np.ones(len(T))\n",
        "  line_coding = np.append(line_coding, temp)\n",
        "time_vector = np.linspace(0,N*time_period,len(line_coding))\n",
        "\n",
        "plt.plot(time_vector,line_coding)\n",
        "plt.show()"
      ],
      "execution_count": 47,
      "outputs": [
        {
          "output_type": "display_data",
          "data": {
            "image/png": "[encoded data removed]",
            "text/plain": [
              "<Figure size 432x288 with 1 Axes>"
            ]
          },
          "metadata": {
            "needs_background": "light"
          }
        }
      ]
    },
    {
      "cell_type": "markdown",
      "metadata": {
        "id": "J23t4QWBnCV3"
      },
      "source": [
        "**Line Coding Decoding - Unipolar - Non Return to Zero(NRZ)**"
      ]
    },
    {
      "cell_type": "code",
      "metadata": {
        "colab": {
          "base_uri": "https://localhost:8080/"
        },
        "id": "cp8yVhkNnEk1",
        "outputId": "2004b201-a1ee-40f7-d304-7c403427c6d2"
      },
      "source": [
        "\n",
        "value = []\n",
        "cnt=0\n",
        "for i in range(len(time_vector)):\n",
        "  if time_vector[i]*bit_rate > cnt:\n",
        "    cnt = cnt + 1\n",
        "    value.append(int(line_coding[i]))\n",
        "\n",
        "print(value)"
      ],
      "execution_count": 48,
      "outputs": [
        {
          "output_type": "stream",
          "name": "stdout",
          "text": [
            "[1, 1, 0, 0, 0, 1, 1, 1, 1, 0, 1, 0, 0, 0, 0]\n"
          ]
        }
      ]
    },
    {
      "cell_type": "markdown",
      "metadata": {
        "id": "YoWwrvS6niM2"
      },
      "source": [
        "**Block Coding**\n",
        "\n",
        "\n",
        "\n",
        "\n",
        "\n"
      ]
    },
    {
      "cell_type": "markdown",
      "metadata": {
        "id": "ruKUVblSoBRa"
      },
      "source": [
        "**Block coding $4B/5B$ with $NRZ-I$ line coding scheme**"
      ]
    },
    {
      "cell_type": "code",
      "metadata": {
        "id": "5DS-kevZoPKH"
      },
      "source": [
        "mB = 4\n",
        "nB = 5\n",
        "block_coding_mapping_codes = {\n",
        "# encoding map\n",
        "\"0000\": \"11110\",\n",
        "\"0001\": \"01001\",\n",
        "\"0010\": \"10100\",\n",
        "\"0011\": \"10101\",\n",
        "\"0100\": \"01010\",\n",
        "\"0101\": \"01011\",\n",
        "\"0110\": \"01110\",\n",
        "\"0111\": \"01111\",\n",
        "\"1000\": \"10010\",\n",
        "\"1001\": \"10011\",\n",
        "\"1010\": \"10110\",\n",
        "\"1011\": \"10111\",\n",
        "\"1100\": \"11010\",\n",
        "\"1101\": \"11011\",\n",
        "\"1110\": \"11100\",\n",
        "\"1111\": \"11101\",\n",
        "# decoding map\n",
        "\"11110\": \"0000\",\n",
        "\"01001\": \"0001\",\n",
        "\"10100\": \"0010\",\n",
        "\"10101\": \"0011\",\n",
        "\"01010\": \"0100\",\n",
        "\"01011\": \"0101\",\n",
        "\"01110\": \"0110\",\n",
        "\"01111\": \"0111\",\n",
        "\"10010\": \"1000\",\n",
        "\"10011\": \"1001\",\n",
        "\"10110\": \"1010\",\n",
        "\"10111\": \"1011\",\n",
        "\"11010\": \"1100\",\n",
        "\"11011\": \"1101\",\n",
        "\"11100\": \"1110\",\n",
        "\"11101\": \"1111\",\n",
        "\n",
        "}\n",
        "\n",
        "def mapping(sequence_of_bits):\n",
        "  return block_coding_mapping_codes[\"\".join(map(str, sequence_of_bits))]\n",
        "  \n",
        "\n",
        "def encoding(sequence_of_bits, mB, nB):\n",
        "  \n",
        "  if len(sequence_of_bits) % mB != 0:\n",
        "    \n",
        "    ext_len = (((len(sequence_of_bits)// mB) + 1) * mB) - len(sequence_of_bits)\n",
        "    ext = np.array(np.zeros(ext_len), dtype=int)\n",
        "    bits = np.append(sequence_of_bits, ext)\n",
        "  \n",
        "  encoded_bits_str = \"\"\n",
        "  for i in range(0, len(sequence_of_bits), mB):\n",
        "    encoded_bits_str += mapping(bits[i:i+mB])\n",
        "  \n",
        "\n",
        "  encoded_bits_list = list(encoded_bits_str)\n",
        "  encoded_bits_map = map(int, encoded_bits_list)\n",
        "  encoded_bits = np.array(list(encoded_bits_map))\n",
        "  return encoded_bits\n",
        "\n",
        "\n",
        "def decoding(sequence_of_bits, mB, nB):\n",
        "  if len(sequence_of_bits) % nB != 0:\n",
        "    print(\"Invalid length, Decoding Not possible!\")\n",
        "    return\n",
        "  decoded_bits_str = \"\"\n",
        "  for i in range(0, len(sequence_of_bits), nB):\n",
        "    decoded_bits_str += mapping(bits[i:i+nB])\n",
        " \n",
        " \n",
        "  decoded_bits_list = list(decoded_bits_str)\n",
        "  decoded_bits_map = map(int, decoded_bits_list)\n",
        "  decoded_bits = np.array(list(decoded_bits_map))\n",
        "  return decoded_bits"
      ],
      "execution_count": 49,
      "outputs": []
    },
    {
      "cell_type": "markdown",
      "metadata": {
        "id": "NGLN0U1ioVkv"
      },
      "source": [
        "**$4B/5B$ Encoding**"
      ]
    },
    {
      "cell_type": "code",
      "metadata": {
        "id": "9_eFMZ2Roapu"
      },
      "source": [
        "sequence_of_bits = np.array([1, 0, 1, 1, 0, 1, 0, 0, 1, 0, 1], dtype=int) \n",
        "sequence_of_bits = encoding(sequence_of_bits, mB, nB)\n"
      ],
      "execution_count": 51,
      "outputs": []
    },
    {
      "cell_type": "markdown",
      "metadata": {
        "id": "amXvSczHoiDk"
      },
      "source": [
        "**$NRZ-I$ Line Coding Encoding**"
      ]
    },
    {
      "cell_type": "code",
      "metadata": {
        "colab": {
          "base_uri": "https://localhost:8080/",
          "height": 265
        },
        "id": "L5NwKHteorF4",
        "outputId": "804ede71-6152-4b01-ce6f-524ab8677897"
      },
      "source": [
        "time_period = 10e-4  \n",
        "bit_rate = 1/time_period  \n",
        "\n",
        "Fs = 4*bit_rate    \n",
        "bit_length = len(sequence_of_bits)   \n",
        "\n",
        "T = np.linspace(0,time_period, mB * 100)\n",
        "\n",
        "line_coding = np.array([])\n",
        "last_bit = 1\n",
        "\n",
        "for i in range(bit_length):\n",
        "  if sequence_of_bits[i] == 1:\n",
        "    temp = (-1) * last_bit * np.ones(len(T))\n",
        "    last_bit = -last_bit\n",
        "  else:\n",
        "    temp = last_bit * np.ones(len(T))\n",
        "  line_coding = np.append(line_coding, temp)\n",
        "time_vector = np.linspace(0,N*time_period,len(line_coding))\n",
        "\n",
        "plt.plot(time_vector, line_coding)\n",
        "plt.show()"
      ],
      "execution_count": 50,
      "outputs": [
        {
          "output_type": "display_data",
          "data": {
            "image/png": "[encoded data removed]",
            "text/plain": [
              "<Figure size 432x288 with 1 Axes>"
            ]
          },
          "metadata": {
            "needs_background": "light"
          }
        }
      ]
    },
    {
      "cell_type": "markdown",
      "metadata": {
        "id": "G4klWf0ho7ET"
      },
      "source": [
        "**$NRZ-I$ Line Coding Decoding**"
      ]
    },
    {
      "cell_type": "code",
      "metadata": {
        "colab": {
          "base_uri": "https://localhost:8080/"
        },
        "id": "Udc_j1auo89c",
        "outputId": "c8d0a655-c9a1-4894-ae6c-d093cee29060"
      },
      "source": [
        "value = []\n",
        "val = 0\n",
        "last_bit = 1\n",
        "\n",
        "for i in range(len(time_vector)):\n",
        "\n",
        "  if t[i]*bit_rate > val:\n",
        "    val = val + 1\n",
        "    if x[i] != last_bit:\n",
        "      value.append(1)\n",
        "      last_bit=-last_bit\n",
        "    else:\n",
        "      value.append(0)\n",
        "\n",
        "print(value)"
      ],
      "execution_count": 52,
      "outputs": [
        {
          "output_type": "stream",
          "name": "stdout",
          "text": [
            "[1, 0, 1, 1, 1, 0, 1, 0, 1, 0, 1, 0, 1, 1, 0]\n"
          ]
        }
      ]
    },
    {
      "cell_type": "markdown",
      "metadata": {
        "id": "6HrELYCSpEjx"
      },
      "source": [
        "**$4B/5B$ Decoding**"
      ]
    },
    {
      "cell_type": "code",
      "metadata": {
        "colab": {
          "base_uri": "https://localhost:8080/"
        },
        "id": "JjO4pg7jpIIu",
        "outputId": "6b94f8ea-455a-4c6d-ea1c-11f3c8363da1"
      },
      "source": [
        "decoded_result = decoding(value, mB, nB)\n",
        "print(decoded_result)"
      ],
      "execution_count": 53,
      "outputs": [
        {
          "output_type": "stream",
          "name": "stdout",
          "text": [
            "[1 0 1 1 0 1 0 0 1 0 1 0]\n"
          ]
        }
      ]
    }
  ]
}